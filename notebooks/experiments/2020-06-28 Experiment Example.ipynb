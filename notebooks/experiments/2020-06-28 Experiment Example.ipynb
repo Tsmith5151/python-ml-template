{
 "cells": [
  {
   "cell_type": "markdown",
   "metadata": {},
   "source": [
    "## Question\n",
    "\n",
    "*This section should cover both the question you are intending to answer, plus a hypothesis with some justification. You want to keep both short to make the notebook readable and keep your focus on the work.*\n",
    "\n",
    "How well can a linear regressor predict petal width? How does adding simple regularization help?\n",
    "\n",
    "## Results\n",
    "\n",
    "*This should cover your evaluation method, as well as including the final results. Feel free to throw in a quick conclusion covering any decision made as a result.*\n",
    "\n",
    "Using RMSE, we found that a simple linear regressor had about a 0.2cm error. Ridge regression performed slightly worse with default parameters, as expected as there were only three features to begin with. As action items, we should visualize the data in more detail to understand how the features interrelate with each other."
   ]
  },
  {
   "cell_type": "markdown",
   "metadata": {},
   "source": [
    "### Additional Notes regarding writing these notebooks\n",
    "\n",
    "1. Set up the notebook so it can be run directly by anyone without issue. This way, any other person can reproduce your results or do a deep dive if needed.\n",
    "2. Any shared code between experiments can be consolidated into modules in order to make starting up new notebooks easier.\n",
    "3. Try using a tool like [nbstripout](https://github.com/kynan/nbstripout) to remove output from cells when committing."
   ]
  },
  {
   "cell_type": "code",
   "execution_count": null,
   "metadata": {},
   "outputs": [],
   "source": [
    "# Add this to automatically reload your modules when changed. These lines eliminate the need to\n",
    "# use importlib.reload() manually. If you don't want all modules to be automatically reloaded, \n",
    "# use `%autoreload 1` and include `%autoreload` in the start block of each cell you want to\n",
    "# automatically reload.\n",
    "%load_ext autoreload\n",
    "%autoreload 2"
   ]
  },
  {
   "cell_type": "code",
   "execution_count": null,
   "metadata": {},
   "outputs": [],
   "source": [
    "from python_ml_template.ml.stage01_preprocess import dl, preprocess"
   ]
  },
  {
   "cell_type": "code",
   "execution_count": null,
   "metadata": {},
   "outputs": [],
   "source": [
    "df = dl.load_dataset()\n",
    "df"
   ]
  },
  {
   "cell_type": "code",
   "execution_count": null,
   "metadata": {},
   "outputs": [],
   "source": [
    "from sklearn.linear_model import LinearRegression, Ridge\n",
    "\n",
    "model = LinearRegression()\n",
    "ridge_model = Ridge()"
   ]
  },
  {
   "cell_type": "code",
   "execution_count": null,
   "metadata": {},
   "outputs": [],
   "source": [
    "from sklearn.model_selection import cross_val_score\n",
    "import numpy as np\n",
    "\n",
    "scores = cross_val_score(\n",
    "    model, \n",
    "    df[['sepal length (cm)', 'sepal width (cm)', 'petal length (cm)']], \n",
    "    df['petal width (cm)'],\n",
    "    scoring='neg_mean_squared_error'\n",
    ")\n",
    "\n",
    "np.sqrt(-np.mean(scores))"
   ]
  },
  {
   "cell_type": "code",
   "execution_count": null,
   "metadata": {},
   "outputs": [],
   "source": [
    "new_scores = cross_val_score(\n",
    "    ridge_model, \n",
    "    df[['sepal length (cm)', 'sepal width (cm)', 'petal length (cm)']], \n",
    "    df['petal width (cm)'],\n",
    "    scoring='neg_mean_squared_error'\n",
    ")\n",
    "np.sqrt(-np.mean(new_scores))"
   ]
  }
 ],
 "metadata": {
  "kernelspec": {
   "display_name": "python-ml-template",
   "language": "python",
   "name": "python-ml-template"
  },
  "language_info": {
   "codemirror_mode": {
    "name": "ipython",
    "version": 3
   },
   "file_extension": ".py",
   "mimetype": "text/x-python",
   "name": "python",
   "nbconvert_exporter": "python",
   "pygments_lexer": "ipython3",
   "version": "3.8.3"
  }
 },
 "nbformat": 4,
 "nbformat_minor": 4
}
